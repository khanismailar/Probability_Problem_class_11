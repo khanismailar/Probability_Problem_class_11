{
 "cells": [
  {
   "attachments": {},
   "cell_type": "markdown",
   "metadata": {},
   "source": [
    "A die is rolled. Let E be the event “die shows 4” and F be the event “die shows\n",
    "even number”. Are E and F mutually exclusive?"
   ]
  },
  {
   "cell_type": "code",
   "execution_count": 2,
   "metadata": {},
   "outputs": [
    {
     "data": {
      "text/plain": [
       "{2, 4, 6}"
      ]
     },
     "execution_count": 2,
     "metadata": {},
     "output_type": "execute_result"
    }
   ],
   "source": [
    "# event when die shows 4 appears only once\n",
    "d4 = {4}\n",
    "dEven = set([x for x in range(1,7) if x%2 == 0])\n",
    "dEven"
   ]
  },
  {
   "cell_type": "code",
   "execution_count": 3,
   "metadata": {},
   "outputs": [
    {
     "data": {
      "text/plain": [
       "{4}"
      ]
     },
     "execution_count": 3,
     "metadata": {},
     "output_type": "execute_result"
    }
   ],
   "source": [
    "# in order to be mutually exclusive A insertection B should be a null set; lets check for this condtion\n",
    "d4.intersection(dEven)"
   ]
  },
  {
   "cell_type": "code",
   "execution_count": null,
   "metadata": {},
   "outputs": [],
   "source": [
    "#above result shows it is a non empty set with an element 4 hence they are not mutually exclusive"
   ]
  },
  {
   "attachments": {},
   "cell_type": "markdown",
   "metadata": {},
   "source": [
    "3. An experiment involves rolling a pair of dice and recording the numbers that\n",
    "come up. Describe the following events:\n",
    "A: the sum is greater than 8, B: 2 occurs on either die\n",
    "C: the sum is at least 7 and a multiple of 3.\n",
    "Which pairs of these events are mutually exclusive?"
   ]
  },
  {
   "cell_type": "code",
   "execution_count": 6,
   "metadata": {},
   "outputs": [
    {
     "data": {
      "text/plain": [
       "[1, 2, 3, 4, 5, 6]"
      ]
     },
     "execution_count": 6,
     "metadata": {},
     "output_type": "execute_result"
    }
   ],
   "source": [
    "d1 = [x for x in range(1,7)]\n",
    "d2 = [x for x in range(1,7)]\n",
    "d1"
   ]
  },
  {
   "cell_type": "code",
   "execution_count": 23,
   "metadata": {},
   "outputs": [
    {
     "data": {
      "text/plain": [
       "{(3, 6),\n",
       " (4, 5),\n",
       " (4, 6),\n",
       " (5, 4),\n",
       " (5, 5),\n",
       " (5, 6),\n",
       " (6, 3),\n",
       " (6, 4),\n",
       " (6, 5),\n",
       " (6, 6)}"
      ]
     },
     "execution_count": 23,
     "metadata": {},
     "output_type": "execute_result"
    }
   ],
   "source": [
    "#A: the sum is greater than 8\n",
    "A = set([(x,y) for x in d1 for y in d2 if x+y > 8])\n",
    "A"
   ]
  },
  {
   "cell_type": "code",
   "execution_count": 24,
   "metadata": {},
   "outputs": [
    {
     "data": {
      "text/plain": [
       "{(1, 2),\n",
       " (2, 1),\n",
       " (2, 2),\n",
       " (2, 3),\n",
       " (2, 4),\n",
       " (2, 5),\n",
       " (2, 6),\n",
       " (3, 2),\n",
       " (4, 2),\n",
       " (5, 2),\n",
       " (6, 2)}"
      ]
     },
     "execution_count": 24,
     "metadata": {},
     "output_type": "execute_result"
    }
   ],
   "source": [
    "#B: 2 occurs on either die\n",
    "B = set([(x,y) for x in d1 for y in d2 if (x == 2 or y == 2)])\n",
    "B"
   ]
  },
  {
   "cell_type": "code",
   "execution_count": 25,
   "metadata": {},
   "outputs": [
    {
     "data": {
      "text/plain": [
       "{(3, 6), (4, 5), (5, 4), (6, 3), (6, 6)}"
      ]
     },
     "execution_count": 25,
     "metadata": {},
     "output_type": "execute_result"
    }
   ],
   "source": [
    "#C: the sum is at least 7 and a multiple of 3.\n",
    "C = set([(x,y) for x in d1 for y in d2 if (x+y >= 7 and (x+y)%3 == 0)])\n",
    "C"
   ]
  },
  {
   "attachments": {},
   "cell_type": "markdown",
   "metadata": {},
   "source": [
    "Lets check for mutual exclusivity : to be mutually exclusive there should not be any common event in the sets lets check :\n"
   ]
  },
  {
   "cell_type": "code",
   "execution_count": 27,
   "metadata": {},
   "outputs": [
    {
     "data": {
      "text/plain": [
       "0"
      ]
     },
     "execution_count": 27,
     "metadata": {},
     "output_type": "execute_result"
    }
   ],
   "source": [
    "len(A.intersection(B)) # no common event here"
   ]
  },
  {
   "cell_type": "code",
   "execution_count": 29,
   "metadata": {},
   "outputs": [
    {
     "data": {
      "text/plain": [
       "{(3, 6), (4, 5), (5, 4), (6, 3), (6, 6)}"
      ]
     },
     "execution_count": 29,
     "metadata": {},
     "output_type": "execute_result"
    }
   ],
   "source": [
    "A.intersection(C) # they are not mutually exclusive"
   ]
  },
  {
   "cell_type": "code",
   "execution_count": 32,
   "metadata": {},
   "outputs": [
    {
     "data": {
      "text/plain": [
       "0"
      ]
     },
     "execution_count": 32,
     "metadata": {},
     "output_type": "execute_result"
    }
   ],
   "source": [
    "len(B.intersection(C)) # they are mutually exclusive"
   ]
  },
  {
   "attachments": {},
   "cell_type": "markdown",
   "metadata": {},
   "source": [
    "From above observations it can be concluded that A and C are not mutually exclusive while A,B and B,C are"
   ]
  },
  {
   "attachments": {},
   "cell_type": "markdown",
   "metadata": {},
   "source": [
    "6. Two dice are thrown. The events A, B and C are as follows:\n",
    "A: getting an even number on the first die.\n",
    "B: getting an odd number on the first die.\n",
    "C: getting the sum of the numbers on the dice ≤ 5.\n"
   ]
  },
  {
   "cell_type": "code",
   "execution_count": 55,
   "metadata": {},
   "outputs": [
    {
     "name": "stdout",
     "output_type": "stream",
     "text": [
      "A:  {(6, 4), (2, 6), (4, 6), (6, 6), (4, 5), (6, 1), (4, 4), (2, 1), (6, 3), (6, 2), (2, 3), (4, 3), (2, 2), (4, 2), (2, 5), (4, 1), (2, 4), (6, 5)} B:  {(1, 2), (3, 2), (1, 3), (5, 4), (3, 3), (5, 5), (5, 6), (3, 1), (5, 2), (1, 4), (1, 5), (1, 6), (3, 6), (5, 3), (5, 1), (3, 4), (1, 1), (3, 5)} C:  {(1, 2), (3, 2), (1, 3), (3, 1), (2, 1), (1, 4), (2, 3), (2, 2), (4, 1), (1, 1)}\n"
     ]
    }
   ],
   "source": [
    "A = set([(x,y) for x in range(1,7) for y in range(1,7) if x%2 == 0])\n",
    "B = set([(x,y) for x in range(1,7) for y in range(1,7) if x%2 == 1])\n",
    "C = set([(x,y) for x in range(1,7) for y in range(1,7) if x+y <= 5])\n",
    "print (\"A: \",A, \"B: \", B, \"C: \", C, end = '\\n')"
   ]
  },
  {
   "cell_type": "code",
   "execution_count": 56,
   "metadata": {},
   "outputs": [
    {
     "name": "stdout",
     "output_type": "stream",
     "text": [
      "36\n"
     ]
    }
   ],
   "source": [
    "fullSampleSpace = set([(x,y) for x in range(1,7) for y in range(1,7)])\n",
    "print (len(fullSampleSpace))"
   ]
  },
  {
   "cell_type": "code",
   "execution_count": 58,
   "metadata": {},
   "outputs": [
    {
     "name": "stdout",
     "output_type": "stream",
     "text": [
      "{(1, 2), (3, 2), (1, 3), (5, 4), (3, 3), (5, 5), (5, 6), (3, 1), (1, 4), (1, 5), (1, 6), (3, 6), (5, 3), (3, 4), (5, 1), (5, 2), (1, 1), (3, 5)}\n"
     ]
    }
   ],
   "source": [
    "compA = fullSampleSpace-A\n",
    "print (compA)"
   ]
  },
  {
   "cell_type": "code",
   "execution_count": 60,
   "metadata": {},
   "outputs": [
    {
     "data": {
      "text/plain": [
       "True"
      ]
     },
     "execution_count": 60,
     "metadata": {},
     "output_type": "execute_result"
    }
   ],
   "source": [
    "compA == B"
   ]
  },
  {
   "cell_type": "code",
   "execution_count": 59,
   "metadata": {},
   "outputs": [
    {
     "name": "stdout",
     "output_type": "stream",
     "text": [
      "{(6, 4), (2, 6), (4, 6), (6, 6), (4, 5), (6, 1), (4, 4), (2, 1), (6, 3), (6, 2), (2, 3), (4, 3), (2, 2), (4, 2), (2, 5), (4, 1), (2, 4), (6, 5)}\n"
     ]
    }
   ],
   "source": [
    "notB = fullSampleSpace-B\n",
    "print (notB)"
   ]
  },
  {
   "cell_type": "code",
   "execution_count": 62,
   "metadata": {},
   "outputs": [
    {
     "name": "stdout",
     "output_type": "stream",
     "text": [
      "{(6, 4), (3, 2), (2, 6), (1, 3), (5, 4), (6, 6), (4, 5), (5, 6), (5, 2), (2, 1), (1, 4), (6, 2), (2, 3), (1, 6), (3, 4), (1, 1), (4, 2), (2, 5), (5, 1), (6, 5), (5, 3), (1, 2), (3, 5), (4, 6), (3, 3), (5, 5), (6, 1), (4, 4), (3, 1), (6, 3), (1, 5), (4, 3), (2, 2), (3, 6), (4, 1), (2, 4)}\n"
     ]
    }
   ],
   "source": [
    "print (A.union(B))"
   ]
  },
  {
   "cell_type": "code",
   "execution_count": 64,
   "metadata": {},
   "outputs": [
    {
     "name": "stdout",
     "output_type": "stream",
     "text": [
      "set()\n"
     ]
    }
   ],
   "source": [
    "print (A.intersection(B)) #nothing in coomon"
   ]
  },
  {
   "cell_type": "code",
   "execution_count": 66,
   "metadata": {},
   "outputs": [
    {
     "name": "stdout",
     "output_type": "stream",
     "text": [
      "{(6, 6), (5, 6), (2, 1), (6, 2), (1, 6), (5, 1), (2, 5), (3, 3), (5, 5), (4, 4), (6, 3), (1, 5), (3, 6), (2, 2), (4, 1), (6, 4), (5, 4), (2, 6), (4, 5), (5, 2), (2, 3), (4, 2), (6, 5), (3, 5), (5, 3), (4, 6), (6, 1), (4, 3), (3, 4), (2, 4)}\n"
     ]
    }
   ],
   "source": [
    "print (A.union(fullSampleSpace-C))"
   ]
  },
  {
   "cell_type": "code",
   "execution_count": 67,
   "metadata": {},
   "outputs": [
    {
     "name": "stdout",
     "output_type": "stream",
     "text": [
      "{(3, 2), (1, 3), (5, 4), (4, 1), (5, 6), (1, 4), (2, 1), (1, 6), (2, 3), (5, 1), (5, 3), (1, 2), (3, 5), (3, 3), (5, 5), (3, 1), (1, 5), (3, 6), (2, 2), (3, 4), (5, 2), (1, 1)}\n"
     ]
    }
   ],
   "source": [
    "print (B.union(C))"
   ]
  },
  {
   "cell_type": "code",
   "execution_count": 68,
   "metadata": {},
   "outputs": [
    {
     "name": "stdout",
     "output_type": "stream",
     "text": [
      "{(1, 2), (3, 2), (1, 3), (3, 1), (1, 4), (1, 1)}\n"
     ]
    }
   ],
   "source": [
    "print (B.intersection(C))"
   ]
  },
  {
   "cell_type": "code",
   "execution_count": 72,
   "metadata": {},
   "outputs": [
    {
     "name": "stdout",
     "output_type": "stream",
     "text": [
      "{(6, 4), (2, 6), (4, 6), (6, 6), (4, 5), (6, 1), (4, 4), (6, 3), (6, 2), (4, 3), (4, 2), (2, 5), (2, 4), (6, 5)}\n"
     ]
    }
   ],
   "source": [
    "print ((A.intersection(fullSampleSpace-B)).intersection(fullSampleSpace-C))"
   ]
  },
  {
   "cell_type": "code",
   "execution_count": 83,
   "metadata": {},
   "outputs": [
    {
     "data": {
      "text/plain": [
       "2.8"
      ]
     },
     "execution_count": 83,
     "metadata": {},
     "output_type": "execute_result"
    }
   ],
   "source": [
    "str = \"0.1 0.2 0.3 0.4 0.5 0.6 0.7\"\n",
    "\n",
    "\n",
    "sum([float(x) for x in str.split(' ')])"
   ]
  },
  {
   "attachments": {},
   "cell_type": "markdown",
   "metadata": {},
   "source": [
    "Excercise 16.3"
   ]
  },
  {
   "attachments": {},
   "cell_type": "markdown",
   "metadata": {},
   "source": [
    "3. A die is thrown, find the probability of following events:\n",
    "(i) A prime number will appear,\n",
    "(ii) A number greater than or equal to 3 will appear,\n",
    "(iii) A number less than or equal to one will appear,\n",
    "(iv) A number more than 6 will appear,\n",
    "(v) A number less than 6 will appear."
   ]
  },
  {
   "cell_type": "code",
   "execution_count": 87,
   "metadata": {},
   "outputs": [
    {
     "name": "stdout",
     "output_type": "stream",
     "text": [
      "0.5\n"
     ]
    }
   ],
   "source": [
    "sampleSpace = set([x for x in range(1,7)])\n",
    "primeSpace = set([2,3,5])\n",
    "probOfPrime = len(primeSpace) / len(sampleSpace) \n",
    "print (probOfPrime)"
   ]
  },
  {
   "cell_type": "code",
   "execution_count": 88,
   "metadata": {},
   "outputs": [
    {
     "name": "stdout",
     "output_type": "stream",
     "text": [
      "0.5\n"
     ]
    }
   ],
   "source": [
    "eventNoGreaterThan3 = [x for x in sampleSpace if x > 3]\n",
    "probOfeventNoGreaterThan3 = len(eventNoGreaterThan3) / len(sampleSpace) \n",
    "print (probOfeventNoGreaterThan3)"
   ]
  },
  {
   "cell_type": "code",
   "execution_count": 90,
   "metadata": {},
   "outputs": [
    {
     "name": "stdout",
     "output_type": "stream",
     "text": [
      "0.0\n"
     ]
    }
   ],
   "source": [
    "eventlessThan1 = [x for x in sampleSpace if x < 1]\n",
    "probOfeventlessThan1 = len(eventlessThan1) / len(sampleSpace) \n",
    "print (probOfeventlessThan1)"
   ]
  },
  {
   "cell_type": "code",
   "execution_count": 91,
   "metadata": {},
   "outputs": [
    {
     "name": "stdout",
     "output_type": "stream",
     "text": [
      "0.0\n"
     ]
    }
   ],
   "source": [
    "eventmoreThan6 = [x for x in sampleSpace if x > 6]\n",
    "probOfeventmoreThan6 = len(eventmoreThan6) / len(sampleSpace) \n",
    "print (probOfeventmoreThan6)"
   ]
  },
  {
   "cell_type": "code",
   "execution_count": 93,
   "metadata": {},
   "outputs": [
    {
     "name": "stdout",
     "output_type": "stream",
     "text": [
      "0.8333333333333334\n"
     ]
    }
   ],
   "source": [
    "eventlessThan6 = [x for x in sampleSpace if x < 6]\n",
    "probOfeventlessThan6 = len(eventlessThan6) / len(sampleSpace) \n",
    "print (probOfeventlessThan6)"
   ]
  },
  {
   "attachments": {},
   "cell_type": "markdown",
   "metadata": {},
   "source": [
    "5. A fair coin with 1 marked on one face and 6 on the other and a fair die are both\n",
    "tossed. find the probability that the sum of numbers that turn up is (i) 3 (ii) 12"
   ]
  },
  {
   "cell_type": "code",
   "execution_count": 96,
   "metadata": {},
   "outputs": [
    {
     "name": "stdout",
     "output_type": "stream",
     "text": [
      "[(1, 1), (1, 2), (1, 3), (1, 4), (1, 5), (1, 6), (6, 1), (6, 2), (6, 3), (6, 4), (6, 5), (6, 6)]\n"
     ]
    }
   ],
   "source": [
    "c = set([1,6])\n",
    "d = set([1,2,3,4,5,6])\n",
    "sampleSpace = [(x,y) for x in c for y in d]\n",
    "print (sampleSpace)"
   ]
  },
  {
   "cell_type": "code",
   "execution_count": 100,
   "metadata": {},
   "outputs": [
    {
     "data": {
      "text/plain": [
       "0.08333333333333333"
      ]
     },
     "execution_count": 100,
     "metadata": {},
     "output_type": "execute_result"
    }
   ],
   "source": [
    "sum3 = [(x[0],x[1]) for x in sampleSpace if x[0]+x[1] == 3]\n",
    "len(sum3) / len(sampleSpace)"
   ]
  },
  {
   "cell_type": "code",
   "execution_count": 101,
   "metadata": {},
   "outputs": [
    {
     "data": {
      "text/plain": [
       "0.08333333333333333"
      ]
     },
     "execution_count": 101,
     "metadata": {},
     "output_type": "execute_result"
    }
   ],
   "source": [
    "sum12 = [(x[0],x[1]) for x in sampleSpace if x[0]+x[1] == 12]\n",
    "len(sum12) / len(sampleSpace)"
   ]
  },
  {
   "cell_type": "code",
   "execution_count": 105,
   "metadata": {},
   "outputs": [
    {
     "name": "stdout",
     "output_type": "stream",
     "text": [
      "Heads\n",
      "Heads\n",
      "Tails\n",
      "Heads\n",
      "Heads\n"
     ]
    }
   ],
   "source": [
    "import numpy\n",
    "\n",
    "def coinToss(p):     \n",
    "    prob = numpy.random.binomial(1,p)   \n",
    "    return prob\n",
    "\n",
    "probability = 0.5\n",
    "samplespace = [\"Heads\", \"Tails\"]\n",
    "\n",
    "for i in range(5):    \n",
    "    result = coinToss(probability)\n",
    "    print (samplespace[result])"
   ]
  },
  {
   "attachments": {},
   "cell_type": "markdown",
   "metadata": {},
   "source": [
    "6. There are four men and six women on the city council. If one council member is\n",
    "selected for a committee at random, how likely is it that it is a woman?"
   ]
  },
  {
   "cell_type": "code",
   "execution_count": 1,
   "metadata": {},
   "outputs": [
    {
     "name": "stdout",
     "output_type": "stream",
     "text": [
      "probabilty of selecting a woman 0.6\n"
     ]
    }
   ],
   "source": [
    "number_of_men = 4\n",
    "number_of_women = 6\n",
    "total_prob = 10\n",
    "print (\"probabilty of selecting a woman\",number_of_women / total_prob)"
   ]
  },
  {
   "attachments": {},
   "cell_type": "markdown",
   "metadata": {},
   "source": []
  }
 ],
 "metadata": {
  "kernelspec": {
   "display_name": "Python 3",
   "language": "python",
   "name": "python3"
  },
  "language_info": {
   "codemirror_mode": {
    "name": "ipython",
    "version": 3
   },
   "file_extension": ".py",
   "mimetype": "text/x-python",
   "name": "python",
   "nbconvert_exporter": "python",
   "pygments_lexer": "ipython3",
   "version": "3.7.9"
  },
  "orig_nbformat": 4
 },
 "nbformat": 4,
 "nbformat_minor": 2
}
